{
 "cells": [
  {
   "cell_type": "code",
   "execution_count": 70,
   "metadata": {},
   "outputs": [
    {
     "name": "stdout",
     "output_type": "stream",
     "text": [
      "18\n",
      "24\n",
      "32\n"
     ]
    }
   ],
   "source": [
    "ages=[5,12,17,18,24,32]\n",
    "\n",
    "def myFunc(x):\n",
    "    if x<18:\n",
    "        return False\n",
    "    else:\n",
    "        return True\n",
    "adults=filter(myFunc,ages)\n",
    "\n",
    "for x in adults:\n",
    "    print(x)"
   ]
  },
  {
   "cell_type": "code",
   "execution_count": 71,
   "metadata": {},
   "outputs": [
    {
     "name": "stdout",
     "output_type": "stream",
     "text": [
      "3 4 5\n"
     ]
    }
   ],
   "source": [
    "def add_nums(x,y,z):\n",
    "    a=x+y\n",
    "    b=x+z\n",
    "    c=y+z\n",
    "    print(a,b,c)\n",
    "\n",
    "add_nums(1,2,3)    "
   ]
  },
  {
   "cell_type": "code",
   "execution_count": 72,
   "metadata": {},
   "outputs": [
    {
     "name": "stdout",
     "output_type": "stream",
     "text": [
      "6\n"
     ]
    }
   ],
   "source": [
    "def max_of_two(x,y):\n",
    "    if x>y:\n",
    "        return x\n",
    "    return y\n",
    "def max_of_three(x,y,z):\n",
    "    return max_of_two(x,max_of_two(y,z))\n",
    "print(max_of_three(3,6,-5))"
   ]
  },
  {
   "cell_type": "code",
   "execution_count": 73,
   "metadata": {},
   "outputs": [
    {
     "name": "stdout",
     "output_type": "stream",
     "text": [
      "20\n"
     ]
    }
   ],
   "source": [
    "def sum(numbers):\n",
    "    total=0\n",
    "    for x in numbers:\n",
    "        total += x\n",
    "    return total\n",
    "print(sum((8,2,3,0,7)))"
   ]
  },
  {
   "cell_type": "code",
   "execution_count": 74,
   "metadata": {},
   "outputs": [
    {
     "name": "stdout",
     "output_type": "stream",
     "text": [
      "336\n"
     ]
    }
   ],
   "source": [
    "def multiply(numbers1):\n",
    "     product=1\n",
    "     for x in numbers1:\n",
    "        product *= x\n",
    "     return product\n",
    "print(multiply((8,2,3,1,7)))\n",
    "\n",
    "    \n"
   ]
  },
  {
   "cell_type": "code",
   "execution_count": 75,
   "metadata": {},
   "outputs": [
    {
     "name": "stdout",
     "output_type": "stream",
     "text": [
      "tahskA sI emaN yM\n"
     ]
    }
   ],
   "source": [
    "def string_reverse(str1):\n",
    "\n",
    "    rstr1=''\n",
    "    index=len(str1)\n",
    "    while index>0:\n",
    "        rstr1 += str1[index-1]\n",
    "        index=index-1\n",
    "    return rstr1\n",
    "print(string_reverse('My Name Is Akshat'))    \n",
    "        "
   ]
  },
  {
   "cell_type": "code",
   "execution_count": 78,
   "metadata": {},
   "outputs": [
    {
     "name": "stdout",
     "output_type": "stream",
     "text": [
      "Original list: (1, 2, 3, 4, 5, 6, 7)\n",
      "\n",
      "Triple of said list Numbers:\n"
     ]
    },
    {
     "ename": "TypeError",
     "evalue": "'list' object is not callable",
     "output_type": "error",
     "traceback": [
      "\u001b[1;31m---------------------------------------------------------------------------\u001b[0m",
      "\u001b[1;31mTypeError\u001b[0m                                 Traceback (most recent call last)",
      "Cell \u001b[1;32mIn[78], line 5\u001b[0m\n\u001b[0;32m      3\u001b[0m result1\u001b[39m=\u001b[39m\u001b[39mmap\u001b[39m(\u001b[39mlambda\u001b[39;00m x:x \u001b[39m+\u001b[39m x  \u001b[39m+\u001b[39mx ,nums1)\n\u001b[0;32m      4\u001b[0m \u001b[39mprint\u001b[39m(\u001b[39m\"\u001b[39m\u001b[39m\\n\u001b[39;00m\u001b[39mTriple of said list Numbers:\u001b[39m\u001b[39m\"\u001b[39m)\n\u001b[1;32m----> 5\u001b[0m \u001b[39mprint\u001b[39m(\u001b[39mlist\u001b[39;49m(result1))\n",
      "\u001b[1;31mTypeError\u001b[0m: 'list' object is not callable"
     ]
    }
   ],
   "source": [
    "nums1=(1,2,3,4,5,6,7)\n",
    "print(\"Original list:\",nums1)\n",
    "result1=map(lambda x:x + x  +x ,nums1)\n",
    "print(\"\\nTriple of said list Numbers:\")\n",
    "print(list(result1))"
   ]
  },
  {
   "cell_type": "code",
   "execution_count": null,
   "metadata": {},
   "outputs": [],
   "source": []
  }
 ],
 "metadata": {
  "kernelspec": {
   "display_name": "Python 3",
   "language": "python",
   "name": "python3"
  },
  "language_info": {
   "codemirror_mode": {
    "name": "ipython",
    "version": 3
   },
   "file_extension": ".py",
   "mimetype": "text/x-python",
   "name": "python",
   "nbconvert_exporter": "python",
   "pygments_lexer": "ipython3",
   "version": "3.11.0"
  },
  "orig_nbformat": 4
 },
 "nbformat": 4,
 "nbformat_minor": 2
}
